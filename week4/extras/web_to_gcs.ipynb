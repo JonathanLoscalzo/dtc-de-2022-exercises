{
  "cells": [
    {
      "cell_type": "code",
      "execution_count": 62,
      "metadata": {
        "id": "O7genQD32WBw"
      },
      "outputs": [],
      "source": [
        "import io\n",
        "import os\n",
        "import requests\n",
        "import pandas as pd\n",
        "import pyarrow\n",
        "from google.cloud import storage\n",
        "from os.path import exists\n",
        "os.environ[\"GOOGLE_APPLICATION_CREDENTIALS\"] = \"SET YOUR CREDENTIALS\"\n"
      ]
    },
    {
      "cell_type": "code",
      "execution_count": 63,
      "metadata": {
        "id": "YltNicN1GOq3"
      },
      "outputs": [],
      "source": [
        "%%bash\n",
        "rm *.parquet\n",
        "rm *.csv"
      ]
    },
    {
      "cell_type": "code",
      "execution_count": 64,
      "metadata": {
        "id": "_rMcPge62xT6"
      },
      "outputs": [],
      "source": [
        "\n",
        "\"\"\"\n",
        "Pre-reqs: \n",
        "1. `pip install pandas pyarrow google-cloud-storage`\n",
        "2. Set GOOGLE_APPLICATION_CREDENTIALS to your project/service-account key\n",
        "3. Set GCP_GCS_BUCKET as your bucket or change default value of BUCKET\n",
        "\"\"\"\n",
        "\n",
        "# services = ['fhv','green','yellow']\n",
        "init_url = 'https://nyc-tlc.s3.amazonaws.com/trip+data/'\n",
        "BUCKET = os.environ.get(\"GCP_GCS_BUCKET\", \"SET-YOUR-BUCKKET\")\n",
        "\n",
        "\n",
        "def upload_to_gcs(bucket, object_name, local_file):\n",
        "    \"\"\"\n",
        "    Ref: https://cloud.google.com/storage/docs/uploading-objects#storage-upload-object-python\n",
        "    \"\"\"\n",
        "    # # WORKAROUND to prevent timeout for files > 6 MB on 800 kbps upload speed.\n",
        "    # # (Ref: https://github.com/googleapis/python-storage/issues/74)\n",
        "    # storage.blob._MAX_MULTIPART_SIZE = 5 * 1024 * 1024  # 5 MB\n",
        "    # storage.blob._DEFAULT_CHUNKSIZE = 5 * 1024 * 1024  # 5 MB\n",
        "\n",
        "    client = storage.Client()\n",
        "    bucket = client.bucket(bucket)\n",
        "    blob = bucket.blob(object_name)\n",
        "    blob.upload_from_filename(local_file)\n",
        "\n",
        "\n",
        "def web_to_gcs(year, service):\n",
        "    for i in range(12):\n",
        "        month = str(i+1).rjust(2,\"0\")\n",
        "        \n",
        "        file_name = service + '_tripdata_' + year + '-' + month + '.csv'\n",
        "\n",
        "        if not exists(file_name):\n",
        "          request_url = init_url + file_name\n",
        "          df = pd.read_csv(request_url)\n",
        "          df.to_csv(file_name, index=False)\n",
        "        else:\n",
        "          df = pd.read_csv(file_name)\n",
        "        \n",
        "        file_name = file_name.replace('.csv', '.parquet')\n",
        "        df.to_parquet(file_name, engine='pyarrow', index=False)\n",
        "        print(f\"Parquet: {file_name}\")\n",
        "        upload_to_gcs(BUCKET, f\"{service}/{file_name}\", file_name)\n",
        "        print(f\"GCS: {service}/{file_name}\")\n",
        "\n"
      ]
    },
    {
      "cell_type": "code",
      "execution_count": 65,
      "metadata": {
        "colab": {
          "base_uri": "https://localhost:8080/"
        },
        "id": "YA9Q9SGi2-X-",
        "outputId": "17833eb5-69eb-4b2d-bf90-1fe068ba2cb0"
      },
      "outputs": [
        {
          "name": "stdout",
          "output_type": "stream",
          "text": [
            "Parquet: green_tripdata_2019-01.parquet\n",
            "GCS: green/green_tripdata_2019-01.parquet\n",
            "Parquet: green_tripdata_2019-02.parquet\n",
            "GCS: green/green_tripdata_2019-02.parquet\n",
            "Parquet: green_tripdata_2019-03.parquet\n",
            "GCS: green/green_tripdata_2019-03.parquet\n",
            "Parquet: green_tripdata_2019-04.parquet\n",
            "GCS: green/green_tripdata_2019-04.parquet\n",
            "Parquet: green_tripdata_2019-05.parquet\n",
            "GCS: green/green_tripdata_2019-05.parquet\n",
            "Parquet: green_tripdata_2019-06.parquet\n",
            "GCS: green/green_tripdata_2019-06.parquet\n"
          ]
        },
        {
          "name": "stderr",
          "output_type": "stream",
          "text": [
            "/usr/local/lib/python3.7/dist-packages/ipykernel_launcher.py:1: DtypeWarning: Columns (3) have mixed types.Specify dtype option on import or set low_memory=False.\n",
            "  \"\"\"Entry point for launching an IPython kernel.\n"
          ]
        },
        {
          "name": "stdout",
          "output_type": "stream",
          "text": [
            "Parquet: green_tripdata_2019-07.parquet\n",
            "GCS: green/green_tripdata_2019-07.parquet\n",
            "Parquet: green_tripdata_2019-08.parquet\n",
            "GCS: green/green_tripdata_2019-08.parquet\n",
            "Parquet: green_tripdata_2019-09.parquet\n",
            "GCS: green/green_tripdata_2019-09.parquet\n",
            "Parquet: green_tripdata_2019-10.parquet\n",
            "GCS: green/green_tripdata_2019-10.parquet\n",
            "Parquet: green_tripdata_2019-11.parquet\n",
            "GCS: green/green_tripdata_2019-11.parquet\n",
            "Parquet: green_tripdata_2019-12.parquet\n",
            "GCS: green/green_tripdata_2019-12.parquet\n",
            "CPU times: user 1min 14s, sys: 4.31 s, total: 1min 18s\n",
            "Wall time: 1min 41s\n"
          ]
        }
      ],
      "source": [
        "%%time\n",
        "web_to_gcs('2019', 'green')\n"
      ]
    },
    {
      "cell_type": "code",
      "execution_count": 66,
      "metadata": {
        "colab": {
          "base_uri": "https://localhost:8080/"
        },
        "id": "fnkg6uGj3Ic7",
        "outputId": "4d107080-841e-446b-9b8c-e2e0fe0ad019"
      },
      "outputs": [
        {
          "name": "stderr",
          "output_type": "stream",
          "text": [
            "/usr/local/lib/python3.7/dist-packages/ipykernel_launcher.py:1: DtypeWarning: Columns (3) have mixed types.Specify dtype option on import or set low_memory=False.\n",
            "  \"\"\"Entry point for launching an IPython kernel.\n"
          ]
        },
        {
          "name": "stdout",
          "output_type": "stream",
          "text": [
            "Parquet: green_tripdata_2020-01.parquet\n",
            "GCS: green/green_tripdata_2020-01.parquet\n",
            "Parquet: green_tripdata_2020-02.parquet\n",
            "GCS: green/green_tripdata_2020-02.parquet\n",
            "Parquet: green_tripdata_2020-03.parquet\n",
            "GCS: green/green_tripdata_2020-03.parquet\n",
            "Parquet: green_tripdata_2020-04.parquet\n",
            "GCS: green/green_tripdata_2020-04.parquet\n",
            "Parquet: green_tripdata_2020-05.parquet\n",
            "GCS: green/green_tripdata_2020-05.parquet\n",
            "Parquet: green_tripdata_2020-06.parquet\n",
            "GCS: green/green_tripdata_2020-06.parquet\n",
            "Parquet: green_tripdata_2020-07.parquet\n",
            "GCS: green/green_tripdata_2020-07.parquet\n",
            "Parquet: green_tripdata_2020-08.parquet\n",
            "GCS: green/green_tripdata_2020-08.parquet\n",
            "Parquet: green_tripdata_2020-09.parquet\n",
            "GCS: green/green_tripdata_2020-09.parquet\n",
            "Parquet: green_tripdata_2020-10.parquet\n",
            "GCS: green/green_tripdata_2020-10.parquet\n",
            "Parquet: green_tripdata_2020-11.parquet\n",
            "GCS: green/green_tripdata_2020-11.parquet\n",
            "Parquet: green_tripdata_2020-12.parquet\n",
            "GCS: green/green_tripdata_2020-12.parquet\n",
            "CPU times: user 22.7 s, sys: 1.19 s, total: 23.9 s\n",
            "Wall time: 41.5 s\n"
          ]
        }
      ],
      "source": [
        "%time web_to_gcs('2020', 'green')\n"
      ]
    },
    {
      "cell_type": "code",
      "execution_count": 67,
      "metadata": {
        "colab": {
          "base_uri": "https://localhost:8080/"
        },
        "id": "p3SmBMFt3ivI",
        "outputId": "0b8ac576-00be-4eda-cfd2-1fd21cf137db"
      },
      "outputs": [
        {
          "name": "stdout",
          "output_type": "stream",
          "text": [
            "Parquet: yellow_tripdata_2019-01.parquet\n",
            "GCS: yellow/yellow_tripdata_2019-01.parquet\n",
            "Parquet: yellow_tripdata_2019-02.parquet\n",
            "GCS: yellow/yellow_tripdata_2019-02.parquet\n",
            "Parquet: yellow_tripdata_2019-03.parquet\n",
            "GCS: yellow/yellow_tripdata_2019-03.parquet\n",
            "Parquet: yellow_tripdata_2019-04.parquet\n",
            "GCS: yellow/yellow_tripdata_2019-04.parquet\n",
            "Parquet: yellow_tripdata_2019-05.parquet\n",
            "GCS: yellow/yellow_tripdata_2019-05.parquet\n",
            "Parquet: yellow_tripdata_2019-06.parquet\n",
            "GCS: yellow/yellow_tripdata_2019-06.parquet\n"
          ]
        },
        {
          "name": "stderr",
          "output_type": "stream",
          "text": [
            "/usr/local/lib/python3.7/dist-packages/ipykernel_launcher.py:1: DtypeWarning: Columns (6) have mixed types.Specify dtype option on import or set low_memory=False.\n",
            "  \"\"\"Entry point for launching an IPython kernel.\n"
          ]
        },
        {
          "name": "stdout",
          "output_type": "stream",
          "text": [
            "Parquet: yellow_tripdata_2019-07.parquet\n",
            "GCS: yellow/yellow_tripdata_2019-07.parquet\n",
            "Parquet: yellow_tripdata_2019-08.parquet\n",
            "GCS: yellow/yellow_tripdata_2019-08.parquet\n",
            "Parquet: yellow_tripdata_2019-09.parquet\n",
            "GCS: yellow/yellow_tripdata_2019-09.parquet\n",
            "Parquet: yellow_tripdata_2019-10.parquet\n",
            "GCS: yellow/yellow_tripdata_2019-10.parquet\n",
            "Parquet: yellow_tripdata_2019-11.parquet\n",
            "GCS: yellow/yellow_tripdata_2019-11.parquet\n",
            "Parquet: yellow_tripdata_2019-12.parquet\n",
            "GCS: yellow/yellow_tripdata_2019-12.parquet\n",
            "CPU times: user 16min 19s, sys: 1min 3s, total: 17min 23s\n",
            "Wall time: 19min 13s\n"
          ]
        }
      ],
      "source": [
        "%time web_to_gcs('2019', 'yellow')\n"
      ]
    },
    {
      "cell_type": "code",
      "execution_count": 68,
      "metadata": {
        "colab": {
          "base_uri": "https://localhost:8080/"
        },
        "id": "KYf9ybYz3jiw",
        "outputId": "b88f126b-e91b-4aa3-a748-30d6d36647ce"
      },
      "outputs": [
        {
          "name": "stderr",
          "output_type": "stream",
          "text": [
            "/usr/local/lib/python3.7/dist-packages/ipykernel_launcher.py:1: DtypeWarning: Columns (6) have mixed types.Specify dtype option on import or set low_memory=False.\n",
            "  \"\"\"Entry point for launching an IPython kernel.\n"
          ]
        },
        {
          "name": "stdout",
          "output_type": "stream",
          "text": [
            "Parquet: yellow_tripdata_2020-01.parquet\n",
            "GCS: yellow/yellow_tripdata_2020-01.parquet\n",
            "Parquet: yellow_tripdata_2020-02.parquet\n",
            "GCS: yellow/yellow_tripdata_2020-02.parquet\n",
            "Parquet: yellow_tripdata_2020-03.parquet\n",
            "GCS: yellow/yellow_tripdata_2020-03.parquet\n",
            "Parquet: yellow_tripdata_2020-04.parquet\n",
            "GCS: yellow/yellow_tripdata_2020-04.parquet\n",
            "Parquet: yellow_tripdata_2020-05.parquet\n",
            "GCS: yellow/yellow_tripdata_2020-05.parquet\n",
            "Parquet: yellow_tripdata_2020-06.parquet\n",
            "GCS: yellow/yellow_tripdata_2020-06.parquet\n",
            "Parquet: yellow_tripdata_2020-07.parquet\n",
            "GCS: yellow/yellow_tripdata_2020-07.parquet\n",
            "Parquet: yellow_tripdata_2020-08.parquet\n",
            "GCS: yellow/yellow_tripdata_2020-08.parquet\n",
            "Parquet: yellow_tripdata_2020-09.parquet\n",
            "GCS: yellow/yellow_tripdata_2020-09.parquet\n",
            "Parquet: yellow_tripdata_2020-10.parquet\n",
            "GCS: yellow/yellow_tripdata_2020-10.parquet\n",
            "Parquet: yellow_tripdata_2020-11.parquet\n",
            "GCS: yellow/yellow_tripdata_2020-11.parquet\n",
            "Parquet: yellow_tripdata_2020-12.parquet\n",
            "GCS: yellow/yellow_tripdata_2020-12.parquet\n",
            "CPU times: user 5min 6s, sys: 16.4 s, total: 5min 22s\n",
            "Wall time: 6min 8s\n"
          ]
        }
      ],
      "source": [
        "%time web_to_gcs('2020', 'yellow')\n"
      ]
    },
    {
      "cell_type": "code",
      "execution_count": null,
      "metadata": {
        "id": "BCFDnHNe3Ak7"
      },
      "outputs": [],
      "source": []
    }
  ],
  "metadata": {
    "colab": {
      "collapsed_sections": [],
      "name": "web_to_gcs.ipynb",
      "provenance": []
    },
    "kernelspec": {
      "display_name": "Python 3",
      "name": "python3"
    },
    "language_info": {
      "name": "python"
    }
  },
  "nbformat": 4,
  "nbformat_minor": 0
}
