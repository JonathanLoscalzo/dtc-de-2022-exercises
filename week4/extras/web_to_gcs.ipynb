{
  "cells": [
    {
      "cell_type": "code",
      "execution_count": 1,
      "metadata": {
        "id": "O7genQD32WBw"
      },
      "outputs": [],
      "source": [
        "import io\n",
        "import os\n",
        "import requests\n",
        "import pandas as pd\n",
        "import pyarrow\n",
        "from google.cloud import storage\n",
        "\n",
        "# os.environ[\"GOOGLE_APPLICATION_CREDENTIALS\"] = \"set your json credentials\""
      ]
    },
    {
      "cell_type": "code",
      "execution_count": 6,
      "metadata": {
        "id": "_rMcPge62xT6"
      },
      "outputs": [],
      "source": [
        "\n",
        "\"\"\"\n",
        "Pre-reqs: \n",
        "1. `pip install pandas pyarrow google-cloud-storage`\n",
        "2. Set GOOGLE_APPLICATION_CREDENTIALS to your project/service-account key\n",
        "3. Set GCP_GCS_BUCKET as your bucket or change default value of BUCKET\n",
        "\"\"\"\n",
        "\n",
        "# services = ['fhv','green','yellow']\n",
        "init_url = 'https://nyc-tlc.s3.amazonaws.com/trip+data/'\n",
        "BUCKET = os.environ.get(\"GCP_GCS_BUCKET\", \"SET YOUR GCP BUCKET\")\n",
        "\n",
        "\n",
        "def upload_to_gcs(bucket, object_name, local_file):\n",
        "    \"\"\"\n",
        "    Ref: https://cloud.google.com/storage/docs/uploading-objects#storage-upload-object-python\n",
        "    \"\"\"\n",
        "    # # WORKAROUND to prevent timeout for files > 6 MB on 800 kbps upload speed.\n",
        "    # # (Ref: https://github.com/googleapis/python-storage/issues/74)\n",
        "    # storage.blob._MAX_MULTIPART_SIZE = 5 * 1024 * 1024  # 5 MB\n",
        "    # storage.blob._DEFAULT_CHUNKSIZE = 5 * 1024 * 1024  # 5 MB\n",
        "\n",
        "    client = storage.Client()\n",
        "    bucket = client.bucket(bucket)\n",
        "    blob = bucket.blob(object_name)\n",
        "    blob.upload_from_filename(local_file)\n",
        "\n",
        "\n",
        "def web_to_gcs(year, service):\n",
        "    for i in range(13):\n",
        "        month = '0'+str(i+1)\n",
        "        month = month[-2:]\n",
        "        file_name = service + '_tripdata_' + year + '-' + month + '.csv'\n",
        "        request_url = init_url + file_name\n",
        "        r = requests.get(request_url)\n",
        "        pd.DataFrame(io.StringIO(r.text)).to_csv(file_name)\n",
        "        print(f\"Local: {file_name}\")\n",
        "        df = pd.read_csv(file_name)\n",
        "        file_name = file_name.replace('.csv', '.parquet')\n",
        "        df.to_parquet(file_name, engine='pyarrow')\n",
        "        print(f\"Parquet: {file_name}\")\n",
        "        upload_to_gcs(BUCKET, f\"{service}/{file_name}\", file_name)\n",
        "        print(f\"GCS: {service}/{file_name}\")\n",
        "\n"
      ]
    },
    {
      "cell_type": "code",
      "execution_count": 7,
      "metadata": {
        "colab": {
          "base_uri": "https://localhost:8080/"
        },
        "id": "YA9Q9SGi2-X-",
        "outputId": "4e02e1d9-e28a-454b-cd51-a4978dee44ca"
      },
      "outputs": [
        {
          "name": "stdout",
          "output_type": "stream",
          "text": [
            "Local: green_tripdata_2019-01.csv\n",
            "Parquet: green_tripdata_2019-01.parquet\n",
            "GCS: green/green_tripdata_2019-01.parquet\n",
            "Local: green_tripdata_2019-02.csv\n",
            "Parquet: green_tripdata_2019-02.parquet\n",
            "GCS: green/green_tripdata_2019-02.parquet\n",
            "Local: green_tripdata_2019-03.csv\n",
            "Parquet: green_tripdata_2019-03.parquet\n",
            "GCS: green/green_tripdata_2019-03.parquet\n",
            "Local: green_tripdata_2019-04.csv\n",
            "Parquet: green_tripdata_2019-04.parquet\n",
            "GCS: green/green_tripdata_2019-04.parquet\n",
            "Local: green_tripdata_2019-05.csv\n",
            "Parquet: green_tripdata_2019-05.parquet\n",
            "GCS: green/green_tripdata_2019-05.parquet\n",
            "Local: green_tripdata_2019-06.csv\n",
            "Parquet: green_tripdata_2019-06.parquet\n",
            "GCS: green/green_tripdata_2019-06.parquet\n",
            "Local: green_tripdata_2019-07.csv\n",
            "Parquet: green_tripdata_2019-07.parquet\n",
            "GCS: green/green_tripdata_2019-07.parquet\n",
            "Local: green_tripdata_2019-08.csv\n",
            "Parquet: green_tripdata_2019-08.parquet\n",
            "GCS: green/green_tripdata_2019-08.parquet\n",
            "Local: green_tripdata_2019-09.csv\n",
            "Parquet: green_tripdata_2019-09.parquet\n",
            "GCS: green/green_tripdata_2019-09.parquet\n",
            "Local: green_tripdata_2019-10.csv\n",
            "Parquet: green_tripdata_2019-10.parquet\n",
            "GCS: green/green_tripdata_2019-10.parquet\n",
            "Local: green_tripdata_2019-11.csv\n",
            "Parquet: green_tripdata_2019-11.parquet\n",
            "GCS: green/green_tripdata_2019-11.parquet\n",
            "Local: green_tripdata_2019-12.csv\n",
            "Parquet: green_tripdata_2019-12.parquet\n",
            "GCS: green/green_tripdata_2019-12.parquet\n",
            "Local: green_tripdata_2019-13.csv\n",
            "Parquet: green_tripdata_2019-13.parquet\n",
            "GCS: green/green_tripdata_2019-13.parquet\n",
            "CPU times: user 38.3 s, sys: 4.33 s, total: 42.6 s\n",
            "Wall time: 1min 10s\n"
          ]
        }
      ],
      "source": [
        "%%time\n",
        "web_to_gcs('2019', 'green')\n"
      ]
    },
    {
      "cell_type": "code",
      "execution_count": 10,
      "metadata": {
        "colab": {
          "base_uri": "https://localhost:8080/"
        },
        "id": "fnkg6uGj3Ic7",
        "outputId": "85a1438e-475f-44ea-e319-23356a6bfa2e"
      },
      "outputs": [
        {
          "name": "stdout",
          "output_type": "stream",
          "text": [
            "Local: green_tripdata_2020-01.csv\n",
            "Parquet: green_tripdata_2020-01.parquet\n",
            "GCS: green/green_tripdata_2020-01.parquet\n",
            "Local: green_tripdata_2020-02.csv\n",
            "Parquet: green_tripdata_2020-02.parquet\n",
            "GCS: green/green_tripdata_2020-02.parquet\n",
            "Local: green_tripdata_2020-03.csv\n",
            "Parquet: green_tripdata_2020-03.parquet\n",
            "GCS: green/green_tripdata_2020-03.parquet\n",
            "Local: green_tripdata_2020-04.csv\n",
            "Parquet: green_tripdata_2020-04.parquet\n",
            "GCS: green/green_tripdata_2020-04.parquet\n",
            "Local: green_tripdata_2020-05.csv\n",
            "Parquet: green_tripdata_2020-05.parquet\n",
            "GCS: green/green_tripdata_2020-05.parquet\n",
            "Local: green_tripdata_2020-06.csv\n",
            "Parquet: green_tripdata_2020-06.parquet\n",
            "GCS: green/green_tripdata_2020-06.parquet\n",
            "Local: green_tripdata_2020-07.csv\n",
            "Parquet: green_tripdata_2020-07.parquet\n",
            "GCS: green/green_tripdata_2020-07.parquet\n",
            "Local: green_tripdata_2020-08.csv\n",
            "Parquet: green_tripdata_2020-08.parquet\n",
            "GCS: green/green_tripdata_2020-08.parquet\n",
            "Local: green_tripdata_2020-09.csv\n",
            "Parquet: green_tripdata_2020-09.parquet\n",
            "GCS: green/green_tripdata_2020-09.parquet\n",
            "Local: green_tripdata_2020-10.csv\n",
            "Parquet: green_tripdata_2020-10.parquet\n",
            "GCS: green/green_tripdata_2020-10.parquet\n",
            "Local: green_tripdata_2020-11.csv\n",
            "Parquet: green_tripdata_2020-11.parquet\n",
            "GCS: green/green_tripdata_2020-11.parquet\n",
            "Local: green_tripdata_2020-12.csv\n",
            "Parquet: green_tripdata_2020-12.parquet\n",
            "GCS: green/green_tripdata_2020-12.parquet\n",
            "Local: green_tripdata_2020-13.csv\n",
            "Parquet: green_tripdata_2020-13.parquet\n",
            "GCS: green/green_tripdata_2020-13.parquet\n",
            "CPU times: user 11.2 s, sys: 1.18 s, total: 12.4 s\n",
            "Wall time: 24.7 s\n"
          ]
        }
      ],
      "source": [
        "%time web_to_gcs('2020', 'green')\n"
      ]
    },
    {
      "cell_type": "code",
      "execution_count": 9,
      "metadata": {
        "colab": {
          "base_uri": "https://localhost:8080/"
        },
        "id": "p3SmBMFt3ivI",
        "outputId": "c2c7ae74-4469-4d19-d0ec-919d1f7ecd1c"
      },
      "outputs": [
        {
          "name": "stdout",
          "output_type": "stream",
          "text": [
            "Local: yellow_tripdata_2019-01.csv\n",
            "Parquet: yellow_tripdata_2019-01.parquet\n",
            "GCS: yellow/yellow_tripdata_2019-01.parquet\n",
            "Local: yellow_tripdata_2019-02.csv\n",
            "Parquet: yellow_tripdata_2019-02.parquet\n",
            "GCS: yellow/yellow_tripdata_2019-02.parquet\n",
            "Local: yellow_tripdata_2019-03.csv\n",
            "Parquet: yellow_tripdata_2019-03.parquet\n",
            "GCS: yellow/yellow_tripdata_2019-03.parquet\n",
            "Local: yellow_tripdata_2019-04.csv\n",
            "Parquet: yellow_tripdata_2019-04.parquet\n",
            "GCS: yellow/yellow_tripdata_2019-04.parquet\n",
            "Local: yellow_tripdata_2019-05.csv\n",
            "Parquet: yellow_tripdata_2019-05.parquet\n",
            "GCS: yellow/yellow_tripdata_2019-05.parquet\n",
            "Local: yellow_tripdata_2019-06.csv\n",
            "Parquet: yellow_tripdata_2019-06.parquet\n",
            "GCS: yellow/yellow_tripdata_2019-06.parquet\n",
            "Local: yellow_tripdata_2019-07.csv\n",
            "Parquet: yellow_tripdata_2019-07.parquet\n",
            "GCS: yellow/yellow_tripdata_2019-07.parquet\n",
            "Local: yellow_tripdata_2019-08.csv\n",
            "Parquet: yellow_tripdata_2019-08.parquet\n",
            "GCS: yellow/yellow_tripdata_2019-08.parquet\n",
            "Local: yellow_tripdata_2019-09.csv\n",
            "Parquet: yellow_tripdata_2019-09.parquet\n",
            "GCS: yellow/yellow_tripdata_2019-09.parquet\n",
            "Local: yellow_tripdata_2019-10.csv\n",
            "Parquet: yellow_tripdata_2019-10.parquet\n",
            "GCS: yellow/yellow_tripdata_2019-10.parquet\n",
            "Local: yellow_tripdata_2019-11.csv\n",
            "Parquet: yellow_tripdata_2019-11.parquet\n",
            "GCS: yellow/yellow_tripdata_2019-11.parquet\n",
            "Local: yellow_tripdata_2019-12.csv\n",
            "Parquet: yellow_tripdata_2019-12.parquet\n",
            "GCS: yellow/yellow_tripdata_2019-12.parquet\n",
            "Local: yellow_tripdata_2019-13.csv\n",
            "Parquet: yellow_tripdata_2019-13.parquet\n",
            "GCS: yellow/yellow_tripdata_2019-13.parquet\n",
            "CPU times: user 8min 20s, sys: 1min 5s, total: 9min 25s\n",
            "Wall time: 11min 31s\n"
          ]
        }
      ],
      "source": [
        "%time web_to_gcs('2019', 'yellow')\n"
      ]
    },
    {
      "cell_type": "code",
      "execution_count": 8,
      "metadata": {
        "colab": {
          "base_uri": "https://localhost:8080/"
        },
        "id": "KYf9ybYz3jiw",
        "outputId": "88b35116-a136-45b9-9f0a-35c78e334f32"
      },
      "outputs": [
        {
          "name": "stdout",
          "output_type": "stream",
          "text": [
            "Local: yellow_tripdata_2020-01.csv\n",
            "Parquet: yellow_tripdata_2020-01.parquet\n",
            "GCS: yellow/yellow_tripdata_2020-01.parquet\n",
            "Local: yellow_tripdata_2020-02.csv\n",
            "Parquet: yellow_tripdata_2020-02.parquet\n",
            "GCS: yellow/yellow_tripdata_2020-02.parquet\n",
            "Local: yellow_tripdata_2020-03.csv\n",
            "Parquet: yellow_tripdata_2020-03.parquet\n",
            "GCS: yellow/yellow_tripdata_2020-03.parquet\n",
            "Local: yellow_tripdata_2020-04.csv\n",
            "Parquet: yellow_tripdata_2020-04.parquet\n",
            "GCS: yellow/yellow_tripdata_2020-04.parquet\n",
            "Local: yellow_tripdata_2020-05.csv\n",
            "Parquet: yellow_tripdata_2020-05.parquet\n",
            "GCS: yellow/yellow_tripdata_2020-05.parquet\n",
            "Local: yellow_tripdata_2020-06.csv\n",
            "Parquet: yellow_tripdata_2020-06.parquet\n",
            "GCS: yellow/yellow_tripdata_2020-06.parquet\n",
            "Local: yellow_tripdata_2020-07.csv\n",
            "Parquet: yellow_tripdata_2020-07.parquet\n",
            "GCS: yellow/yellow_tripdata_2020-07.parquet\n",
            "Local: yellow_tripdata_2020-08.csv\n",
            "Parquet: yellow_tripdata_2020-08.parquet\n",
            "GCS: yellow/yellow_tripdata_2020-08.parquet\n",
            "Local: yellow_tripdata_2020-09.csv\n",
            "Parquet: yellow_tripdata_2020-09.parquet\n",
            "GCS: yellow/yellow_tripdata_2020-09.parquet\n",
            "Local: yellow_tripdata_2020-10.csv\n",
            "Parquet: yellow_tripdata_2020-10.parquet\n",
            "GCS: yellow/yellow_tripdata_2020-10.parquet\n",
            "Local: yellow_tripdata_2020-11.csv\n",
            "Parquet: yellow_tripdata_2020-11.parquet\n",
            "GCS: yellow/yellow_tripdata_2020-11.parquet\n",
            "Local: yellow_tripdata_2020-12.csv\n",
            "Parquet: yellow_tripdata_2020-12.parquet\n",
            "GCS: yellow/yellow_tripdata_2020-12.parquet\n",
            "Local: yellow_tripdata_2020-13.csv\n",
            "Parquet: yellow_tripdata_2020-13.parquet\n",
            "GCS: yellow/yellow_tripdata_2020-13.parquet\n",
            "CPU times: user 2min 26s, sys: 19.4 s, total: 2min 46s\n",
            "Wall time: 3min 30s\n"
          ]
        }
      ],
      "source": [
        "%time web_to_gcs('2020', 'yellow')\n"
      ]
    },
    {
      "cell_type": "code",
      "execution_count": null,
      "metadata": {
        "id": "BCFDnHNe3Ak7"
      },
      "outputs": [],
      "source": []
    }
  ],
  "metadata": {
    "colab": {
      "collapsed_sections": [],
      "name": "web_to_gcs.ipynb",
      "provenance": []
    },
    "kernelspec": {
      "display_name": "Python 3",
      "name": "python3"
    },
    "language_info": {
      "name": "python"
    }
  },
  "nbformat": 4,
  "nbformat_minor": 0
}
